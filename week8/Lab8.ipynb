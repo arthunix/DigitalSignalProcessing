{
 "cells": [
  {
   "cell_type": "markdown",
   "metadata": {
    "id": "mh3MIUKaLGSY"
   },
   "source": [
    "# 8o Lab de PSD (notebook para preencher com os resultados)"
   ]
  },
  {
   "cell_type": "code",
   "execution_count": null,
   "metadata": {
    "colab": {
     "base_uri": "https://localhost:8080/"
    },
    "executionInfo": {
     "elapsed": 20461,
     "status": "ok",
     "timestamp": 1660856060822,
     "user": {
      "displayName": "Ricardo Jose Ferrari",
      "userId": "02603687304106733797"
     },
     "user_tz": 180
    },
    "id": "0sUcbAMJu_NI",
    "outputId": "cb8a6dc9-d9b3-4224-fd85-73b51d05e0b2"
   },
   "outputs": [],
   "source": [
    "#from google.colab import drive\n",
    "#drive.mount('/content/drive')"
   ]
  },
  {
   "cell_type": "markdown",
   "metadata": {
    "id": "vGkH2VC8LGSb"
   },
   "source": [
    "### Número do Grupo : `inserir o número do grupo aqui`"
   ]
  },
  {
   "cell_type": "code",
   "execution_count": null,
   "metadata": {
    "executionInfo": {
     "elapsed": 764,
     "status": "ok",
     "timestamp": 1660848110435,
     "user": {
      "displayName": "Ricardo Jose Ferrari",
      "userId": "02603687304106733797"
     },
     "user_tz": 180
    },
    "id": "y5ZnfREeLGSb"
   },
   "outputs": [],
   "source": [
    "#\n",
    "# Primeiro vamos importar as bibliotecas necessárias\n",
    "#\n",
    "import numpy as np\n",
    "import matplotlib.pyplot as plt\n",
    "import cv2"
   ]
  },
  {
   "cell_type": "markdown",
   "metadata": {
    "id": "iakgrwPjLGSh"
   },
   "source": [
    "# **1.0 - Filtro de Gabor 2D (domínio espacial)**\n",
    "\n",
    "O filtro de Gabor é um filtro do tipo passa-banda que possui alguns parâmetros que permitem que ele possa ser ajustado para realçar informações com diferentes escalas e orientações em uma imagem. A sua **forma geral complexa** é dada pela equação abaixo.\n",
    "\n",
    "$$\\begin{aligned}\n",
    "\\psi(x,y; f_o, \\theta, \\sigma_x, \\sigma_y) = \\frac{f_o^2}{\\pi \\sigma_x \\sigma_y} \\exp \\left(-\\frac{f_o^2}{\\sigma_x^2}x'^2 - \\frac{f_o^2}{\\sigma_y^2}y'^2 \\right) \\exp\\left( j 2\\pi f_o x' \\right)\n",
    "\\end{aligned}$$\n",
    "\n",
    "$$\\begin{aligned}\n",
    "x'&= x\\cos\\theta + y\\sin\\theta\\\\\n",
    "y'&=-x\\sin\\theta + y\\cos\\theta\\\\\n",
    "\\end{aligned}$$\n",
    "\n",
    "$f_o$ = frequência da onda senoidal\n",
    "\n",
    "$\\theta$ = ângulo de orientação do filtro\n",
    "\n",
    "$\\sigma_x$ e $\\sigma_y$ = os desvios padrão da Gaussiana 2D  "
   ]
  },
  {
   "cell_type": "markdown",
   "metadata": {},
   "source": [
    "## **1.1 - Implementação do filtro de Gabor 2D complexo - domínio espacial**\n",
    "\n",
    "Implemente o filtro de Gabor 2D (no domínio espacial) usando a equação fornecida acima."
   ]
  },
  {
   "cell_type": "code",
   "execution_count": null,
   "metadata": {},
   "outputs": [],
   "source": [
    "#\n",
    "# Complex Gabor filter - image domain\n",
    "#\n",
    "def Gabor_image_domain(M,N,fo,theta,sigma_x,sigma_y):\n",
    "    \n",
    "    -> INCLUA O SEU CÓDIGO AQUI !!\n",
    "    \n",
    "    return gab"
   ]
  },
  {
   "cell_type": "markdown",
   "metadata": {},
   "source": [
    "## **1.2 - Criação de um filtro de Gabor 2D**\n",
    "\n",
    "Crie um filtro de Gabor 2D com os parâmetros fornecidos a seguir e plote as partes par e ímpar do filtro complexo. "
   ]
  },
  {
   "cell_type": "code",
   "execution_count": null,
   "metadata": {},
   "outputs": [],
   "source": [
    "M = 32\n",
    "N = 32\n",
    "wavelength = 6 # 5 pixels\n",
    "frequency = 1.0/wavelength \n",
    "theta = -np.pi/4\n",
    "\n",
    "sigma_x = 0.6\n",
    "sigma_y = 1.2\n",
    "\n",
    "g = -> INCLUA O SEU CÓDIGO AQUI !!"
   ]
  },
  {
   "cell_type": "code",
   "execution_count": null,
   "metadata": {},
   "outputs": [],
   "source": [
    "#\n",
    "# Plote os filtros de Gabor 2D par e ímpar\n",
    "#\n",
    "plt.figure(figsize=(12,12))\n",
    "\n",
    "plt.subplot(1, 2, 1)\n",
    "-> INCLUA O SEU CÓDIGO AQUI !!\n",
    "\n",
    "plt.subplot(1, 2, 2)\n",
    "-> INCLUA O SEU CÓDIGO AQUI !!"
   ]
  },
  {
   "cell_type": "markdown",
   "metadata": {},
   "source": [
    "## **1.3 - Filtragem de uma imagem** \n",
    "\n",
    "Utilize os **filtros par e ímpar** criados anteriormente para filtrar a imagem fornecida. Analise as imagems filtradas com os dois filtros."
   ]
  },
  {
   "cell_type": "code",
   "execution_count": null,
   "metadata": {},
   "outputs": [],
   "source": [
    "path = \"\"\n",
    "filename = \"Zebra.jpg\"\n",
    "imageRGB= cv2.imread(path + filename)\n",
    "imageGRAY = cv2.cvtColor(imageRGB, cv2.COLOR_BGR2GRAY)\n",
    "plt.imshow(imageGRAY)\n",
    "\n",
    "print(imageGRAY.shape)"
   ]
  },
  {
   "cell_type": "markdown",
   "metadata": {},
   "source": [
    "A seguir realize a filtragem da imagem"
   ]
  },
  {
   "cell_type": "code",
   "execution_count": null,
   "metadata": {},
   "outputs": [],
   "source": [
    "plt.figure(figsize=(15,15))\n",
    "plt.subplot(1, 2, 1)\n",
    "-> INCLUA O SEU CÓDIGO AQUI  - Filtragem com filtro par !!\n",
    "\n",
    "plt.subplot(1, 2, 2)\n",
    "-> INCLUA O SEU CÓDIGO AQUI  - Filtragem com filtro ímpar !!"
   ]
  },
  {
   "cell_type": "markdown",
   "metadata": {},
   "source": [
    "# **2.0 - Filtro de Gabor 2D (domínio frequência)**\n",
    "\n",
    "No domínio da frequência, o filtro de Gabor 2D normalizado é definido por\n",
    "\n",
    "$$\\begin{aligned}\n",
    "\\Psi(u,v; f_o, \\theta, \\sigma_u, \\sigma_v) = \\exp \\left(-\\pi^2 \\left( \\frac{u'- f_o}{\\sigma_u^2} + \\frac{v'}{\\sigma_v^2} \\right) \\right)\n",
    "\\end{aligned}$$\n",
    "\n",
    "$$\\begin{aligned}\n",
    "u'&= u\\cos\\theta + v\\sin\\theta\\\\\n",
    "v'&=-u\\sin\\theta + v\\cos\\theta\\\\\n",
    "\\end{aligned}$$\n",
    "\n",
    "$f_o$ = frequência da onda senoidal\n",
    "\n",
    "$\\theta$ = ângulo de orientação do filtro\n",
    "\n",
    "$\\sigma_u$ e $\\sigma_v$ = os desvios padrão da Gaussiana 2D na frequência\n",
    "\n",
    "**OBS1**: Quando projetamos o filtro no domínio da frequência precisamos fazer com que $u$ e $v$ variem entre -0.5 e 0.5 \n",
    "\n",
    "**OBS2**: Para efeito de análise, observe que a seguinte relação acontece $\\sigma_u = \\frac{1}{2\\pi \\sigma_x}$ e $\\sigma_v = \\frac{1}{2\\pi \\sigma_y}$"
   ]
  },
  {
   "cell_type": "markdown",
   "metadata": {},
   "source": [
    "## **2.1 - Implementação do filtro de Gabor 2D - domínio frequência**"
   ]
  },
  {
   "cell_type": "code",
   "execution_count": null,
   "metadata": {},
   "outputs": [],
   "source": [
    "#\n",
    "# Complex Gabor filter - frequency domain\n",
    "#\n",
    "def Gabor_freq_domain(M,N,f,theta,sigma_u,sigma_v):\n",
    "\n",
    "    -> INCLUA O SEU CÓDIGO AQUI !!\n",
    "\n",
    "    return gab"
   ]
  },
  {
   "cell_type": "markdown",
   "metadata": {},
   "source": [
    "## **2.2 - Crie o filtro usando os parâmetros abaixo**\n",
    "\n",
    "Crie um filtro Gabor 2D no domínio da frequência usando os parâmetros abaixo e plote as partes par e ímpar do filtro. "
   ]
  },
  {
   "cell_type": "code",
   "execution_count": null,
   "metadata": {},
   "outputs": [],
   "source": [
    "sigma_u = 1/(2*np.pi*sigma_x)\n",
    "sigma_v = 1/(2*np.pi*sigma_y)\n",
    "\n",
    "M = 512\n",
    "N = 512\n",
    "\n",
    "gab_freq = -> INCLUA O SEU CÓDIGO AQUI !!"
   ]
  },
  {
   "cell_type": "code",
   "execution_count": null,
   "metadata": {},
   "outputs": [],
   "source": [
    "plt.figure(figsize=(12,12))\n",
    "plt.subplot(1, 2, 1)\n",
    "-> INCLUA O SEU CÓDIGO AQUI  - parte par do filtro !!\n",
    "\n",
    "plt.subplot(1, 2, 2)\n",
    "-> INCLUA O SEU CÓDIGO AQUI  - parte ímpar do filtro !!"
   ]
  },
  {
   "cell_type": "markdown",
   "metadata": {},
   "source": [
    "## **2.2 - Filtragem no domínio frequência**\n",
    "\n",
    "Utilizando o filtro Gabor 2D complexo implementado no domínio da frequência, realize a filtragem da imagem fornecida e **plote a magnitude do espectro de Fourier e a imagem filtrada**.\n",
    "\n",
    "**DICA**: Para facilitar, crie o filtro com as mesmas dimensões da imagem. "
   ]
  },
  {
   "cell_type": "code",
   "execution_count": null,
   "metadata": {},
   "outputs": [],
   "source": [
    "#\n",
    "# Mostre a imagem da magnitude do espectro de Fourier\n",
    "#\n",
    "-> INCLUA O SEU CÓDIGO AQUI"
   ]
  },
  {
   "cell_type": "code",
   "execution_count": null,
   "metadata": {},
   "outputs": [],
   "source": [
    "#\n",
    "# Faça a filtragem da imagem no domínio da frequência\n",
    "#\n",
    "-> INCLUA O SEU CÓDIGO AQUI"
   ]
  },
  {
   "cell_type": "code",
   "execution_count": null,
   "metadata": {},
   "outputs": [],
   "source": [
    "#\n",
    "# Retorne para o domínio da imagem e mostre a imagem filtrada n\n",
    "#\n",
    "-> INCLUA O SEU CÓDIGO AQUI"
   ]
  },
  {
   "cell_type": "markdown",
   "metadata": {},
   "source": [
    "# **That's it for now !!**"
   ]
  },
  {
   "cell_type": "code",
   "execution_count": null,
   "metadata": {},
   "outputs": [],
   "source": []
  }
 ],
 "metadata": {
  "colab": {
   "collapsed_sections": [],
   "name": "Lab7_solução.ipynb",
   "provenance": []
  },
  "kernelspec": {
   "display_name": "dsp_env",
   "language": "python",
   "name": "dsp_env"
  },
  "language_info": {
   "codemirror_mode": {
    "name": "ipython",
    "version": 3
   },
   "file_extension": ".py",
   "mimetype": "text/x-python",
   "name": "python",
   "nbconvert_exporter": "python",
   "pygments_lexer": "ipython3",
   "version": "3.9.2"
  }
 },
 "nbformat": 4,
 "nbformat_minor": 1
}
