{
 "cells": [
  {
   "cell_type": "markdown",
   "metadata": {},
   "source": [
    "# 6o Lab de PSD (notebook para preencher com os resultados)"
   ]
  },
  {
   "cell_type": "markdown",
   "metadata": {},
   "source": [
    "### Número do Grupo : `inserir o número do grupo aqui`"
   ]
  },
  {
   "cell_type": "code",
   "execution_count": null,
   "metadata": {},
   "outputs": [],
   "source": [
    "#\n",
    "# Primeiro vamos importar as bibliotecas necessárias\n",
    "#\n",
    "import numpy as np\n",
    "import matplotlib.pyplot as plt\n",
    "from scipy.signal import convolve, correlate"
   ]
  },
  {
   "cell_type": "markdown",
   "metadata": {},
   "source": [
    "## Definição do par de transformadas DFT - (direta e inversa)   \n",
    "\n",
    "O par de transformadas discretas de Fourier (Discrete Fourier Transform - DFT) para um sinal de tempo discreto $x[k]$ com índice das amostras igual $k$ e o correspondente espectro de Fourier $X[\\mu]$ com índice de frequências $\\mu$ é calculado como  \n",
    "\\begin{align}\n",
    "\\text{DFT}: Y[\\mu]=&\\sum_{k=0}^{N-1}x[k]\\cdot\\mathrm{e}^{-\\mathrm{j}\\frac{2\\pi}{N}k\\mu}\\\\\n",
    "\\text{IDFT}: x[k]=\\frac{1}{N}&\\sum_{\\mu=0}^{N-1}Y[\\mu]\\cdot\\mathrm{e}^{+\\mathrm{j}\\frac{2\\pi}{N}k\\mu}\n",
    "\\end{align}\n",
    "\n",
    "Observe o sinal negativo na função exponential da transformada direta (DFT) e o fator de normalização $1/N$ na transformada inversa (IDFT). Essa convensão é usada pela maioria dos livros textos de DSP e também pela biblioteca Python `numpy.fft.fft()`, `numpy.fft.ifft()` e funções do Matlab `fft()`, `ifft()`."
   ]
  },
  {
   "cell_type": "markdown",
   "metadata": {},
   "source": [
    "# PROBLEMA 1"
   ]
  },
  {
   "cell_type": "markdown",
   "metadata": {},
   "source": [
    "## DFT e IDFT com \"loops for\"\n",
    "\n",
    "Agora vamos implementar a DFT e a IDFT usando \"loops for\". Embora isso possa ser útil para entender e validar algoritmos em sua fase inicial de desenvolvimento, isso deve ser evitado para um código usado na prática: \"loops for\" normalmente são lentos e muitas vezes mais complicados de ler do que implementações usando matrizes e vetores. Especialmente para $N$ muito grandes, o tempo de computação é muito longo.\n",
    "\n",
    "De qualquer forma, o conceito de \"loop for\" é: a DFT pode ser implementada com um \"loop for\" externo iterando sobre $\\mu$ e um \"loop for\" interno somando todos os $k$ para um $\\mu$ específico.\n",
    "\n",
    "Usamos variável com subscrito _ aqui, a fim de salvar bons nomes de variáveis para o cálculo baseado em matriz."
   ]
  },
  {
   "cell_type": "markdown",
   "metadata": {},
   "source": [
    "## Parte A \n",
    "\n",
    "Escreva as funções DFT e IDFT que calculam, respectivamente, as transformadas discretas de Fourier direta e inversa. "
   ]
  },
  {
   "cell_type": "code",
   "execution_count": null,
   "metadata": {},
   "outputs": [],
   "source": [
    "#\n",
    "# Função para calcular a DFT (com loops for) de um sinal de valor complexo (dtype=complex)\n",
    "#\n",
    "# Entrada: x -> vetor contendo as amostras (números complexos) do sinal no tempo \n",
    "# Saída: Y -> vetor contendo os coeficientes espectrais (números complexos) - (dtype=complex)\n",
    "#\n",
    "def DFT_1D(x):\n",
    "\n",
    "    -> INSERIR O SEU CÓDIGO AQUI !!\n",
    "    \n",
    "    return Y    "
   ]
  },
  {
   "cell_type": "code",
   "execution_count": null,
   "metadata": {},
   "outputs": [],
   "source": [
    "#\n",
    "# Função para calcular a IDFT (com loops for) de um sinal de valor complexo (dtype=complex)\n",
    "#\n",
    "# Entrada: Y -> vetor contendo os coeficientes espectrais (números complexos) \n",
    "# Saída: x -> vetor contendo as amostras (números complexos) do sinal no tempo \n",
    "#\n",
    "def IDFT_1D(Y):\n",
    "\n",
    "    -> INSERIR O SEU CÓDIGO AQUI !!    \n",
    "    \n",
    "    return x    "
   ]
  },
  {
   "cell_type": "markdown",
   "metadata": {},
   "source": [
    "## Parte B \n",
    "\n",
    "Estude o código abaixo que cria uma sinal discreto composto pela soma de três ondas senoides com amplitude e frequências distintas e um valor constante (nível DC). "
   ]
  },
  {
   "cell_type": "code",
   "execution_count": null,
   "metadata": {},
   "outputs": [],
   "source": [
    "# número de amostras\n",
    "sr = 100\n",
    "\n",
    "# intervalo de amostragem\n",
    "ts = 1.0/sr\n",
    "t = np.arange(0,1,ts)\n",
    "t_amostra = np.arange(0,sr,1)\n",
    "\n",
    "# nível DC - frequência ZERO\n",
    "sinal_sem_ruido = 2.\n",
    "\n",
    "# componente com frequência de 1 Hz\n",
    "freq = 1.\n",
    "sinal_sem_ruido += 3*np.sin(2*np.pi*freq*t)\n",
    "\n",
    "# componente com frequência de 4 Hz\n",
    "freq = 4.\n",
    "sinal_sem_ruido += 1*np.sin(2*np.pi*freq*t)\n",
    "\n",
    "# componente com frequência de 7 Hz\n",
    "freq = 7.   \n",
    "sinal_sem_ruido += 0.5*np.sin(2*np.pi*freq*t)\n",
    "\n",
    "\n",
    "plt.figure(figsize = (8, 6))\n",
    "plt.stem(t_amostra, sinal_sem_ruido, linefmt='red')\n",
    "plt.xlabel('Número da amostra')\n",
    "plt.ylabel('Amplitude')\n",
    "plt.title('Sinal discreto sem ruído')\n",
    "\n",
    "plt.show()"
   ]
  },
  {
   "cell_type": "markdown",
   "metadata": {},
   "source": [
    "## Parte C \n",
    "\n",
    "A função densidade de probabilidade Gaussiana (também chamada de normal) é definida por:\n",
    "\n",
    "$p(x) = \\frac{1}{\\sqrt{2\\pi \\sigma^2}} e^{-\\frac{(x-\\mu)^2}{2\\sigma^2}},$\n",
    "\n",
    "sendo que $\\mu$ é a média e $\\sigma$ o desvio padrão. O quadrado do desvio padrão, $\\sigma^2$, é chamado de variância.\n",
    "\n",
    "A função tem seu pico na média e seu espalhamento (“spread”) aumenta com o desvio padrão (a função atinge 0,607 vezes seu máximo em $x+\\sigma$ e $x-\\sigma$). Isso implica que a normal é mais provável de retornar amostras próximas à média, em vez de amostras distantes.\n",
    "\n",
    "Estude o código abaixo que cria uma função de distribuição gaussiana, que está simulando a distribuição do ruído de um sinal. **Dê maior atenção à função geradora da distribuição (np.random.normal)**"
   ]
  },
  {
   "cell_type": "code",
   "execution_count": null,
   "metadata": {},
   "outputs": [],
   "source": [
    "# Define os valores da média e desvio padrão da função distribuição de probabilidade Gaussiana\n",
    "mu, sigma = 0, 0.2 \n",
    "num_amostras = 1000 #len(sinal_sem_ruido)\n",
    "\n",
    "# Gera a distribuição com um número de amostra dado pelo tamanho do sinal\n",
    "s = np.random.normal(mu, sigma, num_amostras)\n",
    "\n",
    "# Calcula o histograma dos valores de ruído aleatório\n",
    "num_bins = 30\n",
    "count, bins, ignored = plt.hist(s, num_bins, density=True)\n",
    "\n",
    "# Define a função densidade de probabilidade (curva em vermelho)\n",
    "pdf = 1/(sigma * np.sqrt(2 * np.pi)) * np.exp( - (bins - mu)**2 / (2 * sigma**2) )\n",
    "\n",
    "# Plota os resultados\n",
    "plt.plot(bins, pdf, linewidth=2, color='r')\n",
    "plt.show()"
   ]
  },
  {
   "cell_type": "markdown",
   "metadata": {},
   "source": [
    "## Parte D\n",
    "\n",
    "Escreva abaixo um código que adicione ruído Gaussiano a um sinal de entrada. A função densidade de probabilidade do ruído deverá ter média \"mu\" e desvio padrão \"std\". "
   ]
  },
  {
   "cell_type": "code",
   "execution_count": null,
   "metadata": {},
   "outputs": [],
   "source": [
    "def adiciona_ruido_gaussiano(sinal, mu, std):\n",
    "    \n",
    "    -> INSERIR O SEU CÓDIGO AQUI !!\n",
    "    \n",
    "    return sinal_com_ruido"
   ]
  },
  {
   "cell_type": "markdown",
   "metadata": {},
   "source": [
    "## Parte E\n",
    "\n",
    "Usando a função codificada acima, insira ruído ao sinal criado na Parte B. **O ruído deverá ter média zero e desvio padrão igual a 0,8**. A seguir plote lado-a-lado os sinais (com e sem ruído) usando as funções **plt.subplot** e **plt.plot** e verifique a distorção ocorrida entre os sinais."
   ]
  },
  {
   "cell_type": "code",
   "execution_count": null,
   "metadata": {},
   "outputs": [],
   "source": [
    "\n",
    "-> INSERIR O SEU CÓDIGO AQUI !!\n",
    "    "
   ]
  },
  {
   "cell_type": "markdown",
   "metadata": {},
   "source": [
    "# Parte F\n",
    "\n",
    "Agora, usando a **função DFT que você implementou na Parte A**, plote lado-a-lado os espetros de frequências dos sinais com e sem ruído. \n",
    "\n",
    "**OBS:** Lembre de posicionar as frequências de maneira que as frequências negativas fiquem à esquerdo do zero (nível DC) e as positivas à direita."
   ]
  },
  {
   "cell_type": "code",
   "execution_count": null,
   "metadata": {},
   "outputs": [],
   "source": [
    "\n",
    "-> INSERIR O SEU CÓDIGO AQUI !!\n",
    "    "
   ]
  },
  {
   "cell_type": "markdown",
   "metadata": {},
   "source": [
    "# Parte G\n",
    "\n",
    "Analisando os gráficos obtidos da Parte F, elabore (no domínio da frequência) uma estratégia simples para a eliminação do ruído que foi inserido no sinal na Parte E. "
   ]
  },
  {
   "cell_type": "code",
   "execution_count": null,
   "metadata": {},
   "outputs": [],
   "source": [
    "\n",
    "-> INSERIR O SEU CÓDIGO AQUI !!\n",
    "    "
   ]
  },
  {
   "cell_type": "markdown",
   "metadata": {},
   "source": [
    "# Parte H\n",
    "\n",
    "Plote lado-a-lado os gráficos do sinal original e o sinal recuperado após a eliminação do ruído."
   ]
  },
  {
   "cell_type": "code",
   "execution_count": null,
   "metadata": {},
   "outputs": [],
   "source": [
    "-> INSERIR O SEU CÓDIGO AQUI !!"
   ]
  },
  {
   "cell_type": "markdown",
   "metadata": {},
   "source": [
    "## That's it for now, Folks !!"
   ]
  }
 ],
 "metadata": {
  "kernelspec": {
   "display_name": "dsp_env",
   "language": "python",
   "name": "dsp_env"
  },
  "language_info": {
   "codemirror_mode": {
    "name": "ipython",
    "version": 3
   },
   "file_extension": ".py",
   "mimetype": "text/x-python",
   "name": "python",
   "nbconvert_exporter": "python",
   "pygments_lexer": "ipython3",
   "version": "3.9.2"
  }
 },
 "nbformat": 4,
 "nbformat_minor": 2
}
