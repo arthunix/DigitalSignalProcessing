{
 "cells": [
  {
   "cell_type": "markdown",
   "metadata": {},
   "source": [
    "# 4o Lab de PSD (notebook para preencher com os resultados)"
   ]
  },
  {
   "cell_type": "markdown",
   "metadata": {},
   "source": [
    "### Número do Grupo : `inserir o número do grupo aqui`"
   ]
  },
  {
   "cell_type": "code",
   "execution_count": null,
   "metadata": {},
   "outputs": [],
   "source": [
    "#\n",
    "# Primeiro vamos importar as bibliotecas necessárias\n",
    "#\n",
    "import numpy as np\n",
    "import matplotlib.pyplot as plt\n",
    "from scipy.signal import convolve, correlate"
   ]
  },
  {
   "cell_type": "markdown",
   "metadata": {},
   "source": [
    "## Definição do par de transformadas DFT - (direta e inversa)   \n",
    "\n",
    "O par de transformadas discretas de Fourier (Discrete Fourier Transform - DFT) para um sinal de tempo discreto $x[k]$ com índice das amostras igual $k$ e o correspondente espectro de Fourier $X[\\mu]$ com índice de frequências $\\mu$ é calculado como  \n",
    "\\begin{align}\n",
    "\\text{DFT}: Y[\\mu]=&\\sum_{k=0}^{N-1}x[k]\\cdot\\mathrm{e}^{-\\mathrm{j}\\frac{2\\pi}{N}k\\mu}\\\\\n",
    "\\text{IDFT}: x[k]=\\frac{1}{N}&\\sum_{\\mu=0}^{N-1}Y[\\mu]\\cdot\\mathrm{e}^{+\\mathrm{j}\\frac{2\\pi}{N}k\\mu}\n",
    "\\end{align}\n",
    "\n",
    "Observe o sinal negativo na função exponential da transformada direta (DFT) e o fator de normalização $1/N$ na transformada inversa (IDFT). Essa convensão é usada pela maioria dos livros textos de DSP e também pela biblioteca Python `numpy.fft.fft()`, `numpy.fft.ifft()` e funções do Matlab `fft()`, `ifft()`."
   ]
  },
  {
   "cell_type": "markdown",
   "metadata": {},
   "source": [
    "# PROBLEMA 1"
   ]
  },
  {
   "cell_type": "markdown",
   "metadata": {},
   "source": [
    "## DFT e IDFT com \"loops for\"\n",
    "\n",
    "Agora vamos implementar a DFT e a IDFT usando \"loops for\". Embora isso possa ser útil para entender e validar algoritmos em sua fase inicial de desenvolvimento, isso deve ser evitado para um código usado na prática: \"loops for\" normalmente são lentos e muitas vezes mais complicados de ler do que implementações usando matrizes e vetores. Especialmente para $N$ muito grandes, o tempo de computação é muito longo.\n",
    "\n",
    "De qualquer forma, o conceito de \"loop for\" é: a DFT pode ser implementada com um \"loop for\" externo iterando sobre $\\mu$ e um \"loop for\" interno somando todos os $k$ para um $\\mu$ específico.\n",
    "\n",
    "Usamos variável com subscrito _ aqui, a fim de salvar bons nomes de variáveis para o cálculo baseado em matriz."
   ]
  },
  {
   "cell_type": "markdown",
   "metadata": {},
   "source": [
    "## Parte A \n",
    "\n",
    "Escreva as funções DFT e IDFT que calculam, respectivamente, as transformadas discretas de Fourier direta e inversa. "
   ]
  },
  {
   "cell_type": "code",
   "execution_count": null,
   "metadata": {},
   "outputs": [],
   "source": [
    "#\n",
    "# Função para calcular a DFT (com loops for) de um sinal de valor complexo (dtype=complex)\n",
    "#\n",
    "# Entrada: x -> vetor contendo as amostras (números complexos) do sinal no tempo \n",
    "# Saída: Y -> vetor contendo os coeficientes espectrais (números complexos) - (dtype=complex)\n",
    "#\n",
    "def DFT_1D(x):\n",
    "    \n",
    "    -> INSIRA SEU CÓDIGO AQUI !! \n",
    "    \n",
    "    return Y    "
   ]
  },
  {
   "cell_type": "code",
   "execution_count": null,
   "metadata": {},
   "outputs": [],
   "source": [
    "#\n",
    "# Função para calcular a IDFT (com loops for) de um sinal de valor complexo (dtype=complex)\n",
    "#\n",
    "# Entrada: Y -> vetor contendo os coeficientes espectrais (números complexos) \n",
    "# Saída: x -> vetor contendo as amostras (números complexos) do sinal no tempo \n",
    "#\n",
    "def IDFT_1D(Y):\n",
    "    \n",
    "    -> INSIRA SEU CÓDIGO AQUI !! \n",
    "    \n",
    "    return x    "
   ]
  },
  {
   "cell_type": "markdown",
   "metadata": {},
   "source": [
    "## Parte B \n",
    "\n",
    "Estude o código abaixo que cria uma sinal discreto composto pela soma de três ondas senoides com amplitude e frequências distintas. "
   ]
  },
  {
   "cell_type": "code",
   "execution_count": null,
   "metadata": {},
   "outputs": [],
   "source": [
    "# taxa de amostragem (sampling rate)\n",
    "sr = 100\n",
    "\n",
    "# intervalo de amostragem\n",
    "ts = 1.0/sr\n",
    "t = np.arange(0,1,ts)\n",
    "\n",
    "freq = 1.\n",
    "x = 3*np.sin(2*np.pi*freq*t)\n",
    "\n",
    "freq = 4\n",
    "x += np.sin(2*np.pi*freq*t)\n",
    "\n",
    "freq = 7   \n",
    "x += 0.5*np.sin(2*np.pi*freq*t)\n",
    "\n",
    "plt.figure(figsize = (8, 6))\n",
    "plt.stem(t, x, linefmt='red')\n",
    "plt.ylabel('Amplitude')\n",
    "\n",
    "plt.show()"
   ]
  },
  {
   "cell_type": "markdown",
   "metadata": {},
   "source": [
    "## Parte C \n",
    "\n",
    "Escreva um código que utilize a função DFT criada anteriormente para calcular e plotar o espectro de frequências (abs(Y)) do sinal $x$ criado acima. \n",
    "\n",
    "**OBS**: Observe que a DFT codificada recebe como entrada um sinal complexo e o sinal acima é do tipo real. Portanto, transforme o sinal $x$ em uma sequência complexa com a parte imaginária igual a zero. "
   ]
  },
  {
   "cell_type": "code",
   "execution_count": null,
   "metadata": {},
   "outputs": [],
   "source": [
    "# tamanho do vetor\n",
    "N = len(x)\n",
    "\n",
    "# cria um vetor de números complexos\n",
    "-> INSIRA SEU CÓDIGO AQUI !! \n",
    "\n",
    "# chamada à função DFT\n",
    "-> INSIRA SEU CÓDIGO AQUI !! \n",
    "\n",
    "# calcula a frequência\n",
    "n = np.arange(N)\n",
    "T = N/sr\n",
    "freq = n/T \n",
    "\n",
    "plt.figure(figsize = (8, 6))\n",
    "plt.stem(freq, abs(Y), linefmt='blue', markerfmt=\" \", basefmt=\"-b\")\n",
    "plt.xlabel('Freq (Hz)')\n",
    "plt.ylabel('Amplitude da DFT |X(freq)|')\n",
    "plt.show()"
   ]
  },
  {
   "cell_type": "markdown",
   "metadata": {},
   "source": [
    "No gráfico acima é possível notar que a saída da DFT é simétrica na metade da taxa de amostragem (você pode tentar uma taxa de amostragem diferente para testar). \n",
    "\n",
    "Essa metade da taxa de amostragem é chamada de **frequência de Nyquist**, em homenagem ao engenheiro eletrônico **Harry Nyquist**. Harry Nyquist e Claude Shannon criaram o famoso teorema de amostragem de **Nyquist-Shannon**, que afirma que um sinal amostrado a uma taxa $f_s$ pode ser totalmente reconstruído se contiver apenas componentes de frequência abaixo da metade dessa frequência de amostragem, ou seja, a taxa de amostragem deve ser maior que duas vezes a máxima frequência do sinal, $f_s > f_{max}$."
   ]
  },
  {
   "cell_type": "code",
   "execution_count": null,
   "metadata": {},
   "outputs": [],
   "source": [
    "n_oneside = N//2\n",
    "\n",
    "# obtem as frequências de um lado\n",
    "f_oneside = freq[:n_oneside]\n",
    "\n",
    "# normaliza a amplitude do sinal\n",
    "Y_oneside =Y[:n_oneside]/n_oneside\n",
    "\n",
    "plt.figure(figsize = (12, 6))\n",
    "plt.subplot(121)\n",
    "plt.stem(f_oneside, abs(Y_oneside), linefmt='blue', markerfmt=\" \", basefmt=\"-b\")\n",
    "plt.xlabel('Freq (Hz)')\n",
    "plt.ylabel('Amplitude da DFT |X(freq)|')\n",
    "\n",
    "plt.subplot(122)\n",
    "plt.stem(f_oneside, abs(Y_oneside), linefmt='blue', markerfmt=\" \", basefmt=\"-b\")\n",
    "plt.xlabel('Freq (Hz)')\n",
    "# Limita o eixo x até frequência de 10 Hz\n",
    "plt.xlim(0, 10)\n",
    "\n",
    "plt.tight_layout()\n",
    "plt.show()"
   ]
  },
  {
   "cell_type": "markdown",
   "metadata": {},
   "source": [
    "## Limitações da DFT implementada\n",
    "\n",
    "O principal problema com a implementação da DFT acima é que ela não é eficiente se tivermos um sinal com muitas amostras. Nesse caso, o cálculo da DFT pode levar muito tempo."
   ]
  },
  {
   "cell_type": "markdown",
   "metadata": {},
   "source": [
    "## Parte D\n",
    "\n",
    "Escreva uma função em python que implemente o sinal indicado abaixo. \n",
    "\n",
    "\\begin{equation}\n",
    "f(t) = 3sin(2\\pi f t),\n",
    "\\end{equation}\n",
    "\n",
    "sendo $f=2$ Hz"
   ]
  },
  {
   "cell_type": "code",
   "execution_count": null,
   "metadata": {},
   "outputs": [],
   "source": [
    "# \n",
    "# sr = taxa de amostragem\n",
    "#\n",
    "def sinal(sr):\n",
    "    '''\n",
    "    função para gerar um sinal 1D simples com diferentes taxas de amostragem\n",
    "    '''\n",
    "    ts = 1.0/sr\n",
    "    t = np.arange(0,1,ts)\n",
    "\n",
    "    freq = 2.\n",
    " \n",
    "    -> INSIRA SEU CÓDIGO AQUI !! \n",
    "\n",
    "    return x"
   ]
  },
  {
   "cell_type": "markdown",
   "metadata": {},
   "source": [
    "## Parte E\n",
    "\n",
    "Escreva um simples programa em python que varia a taxa de amostragem (sr) do sinal acima de 500 e 1000, com passo de 100 e, para cada uma das taxas, determine a DFT do sinal gerado e imprima o tempo de de execução.\n",
    "\n",
    "**OBS** Use o código abaixo como exemplo de como medir o tempo de execução\n",
    "\n",
    "import time\n",
    "start_time = time.time()\n",
    "main()\n",
    "print(\"--- %s seconds ---\" % (time.time() - start_time))"
   ]
  },
  {
   "cell_type": "code",
   "execution_count": null,
   "metadata": {},
   "outputs": [],
   "source": [
    "import time\n",
    "\n",
    "start = 500\n",
    "stop  = 1000\n",
    "step  = 100\n",
    "\n",
    "-> INSIRA SEU CÓDIGO AQUI !! "
   ]
  },
  {
   "cell_type": "markdown",
   "metadata": {},
   "source": [
    "## Parte F\n",
    "\n",
    "Agora, utilize a função IDFt para obter e plotar o sinal original $x$ criado na \"parte A\" a partir do seu espetro $Y$ obtido na \"parte C\"\n",
    "\n",
    "**OBS**: Observe que a IDFT codificada recebe como entrada um sinal complexo e retorna um sinal complexo. Portanto, para obter o sinal $x$ criado na \"parte A\", você precisa utilizar apenas a parte real do sinal de retorno. "
   ]
  },
  {
   "cell_type": "code",
   "execution_count": null,
   "metadata": {},
   "outputs": [],
   "source": [
    "-> INSIRA SEU CÓDIGO AQUI !! "
   ]
  },
  {
   "cell_type": "markdown",
   "metadata": {},
   "source": [
    "# PROBLEMA 2"
   ]
  },
  {
   "cell_type": "markdown",
   "metadata": {},
   "source": [
    "## Parte A\n",
    "\n",
    "Estenda para sinais 2D (imagens) os códigos da DFT e IDFT implementados anteriormente para sinais 1D\n",
    "\n",
    "**DICA**: Use do fato que a 2D-DFT pode ser escrita a partir da 1D-DFT, como indicado abaixo\n",
    "\n",
    "\n",
    "\\begin{equation}\n",
    "F(u,v) = \\frac{1}{MN} \\sum_{x=0}^{N} \\sum_{y=0}^{M} f(x,y) e^{-j 2\\pi \\left( \\frac{ux}{N} + \\frac{vy}{M} \\right)} = \\frac{1}{M} \\sum_{y=0}^{M} \\left[ \\frac{1}{N} \\sum_{x=0}^{N} e^{-j 2\\pi \\frac{ux}{N}} \\right] e^{-j 2\\pi \\frac{vy}{M}} \n",
    "\\end{equation}"
   ]
  },
  {
   "cell_type": "code",
   "execution_count": null,
   "metadata": {},
   "outputs": [],
   "source": [
    "#\n",
    "# Função para calcular a DFT (com loops for) de um sinal de valor complexo (dtype=complex)\n",
    "#\n",
    "# Entrada: x -> vetor contendo as amostras (números complexos) do sinal no tempo \n",
    "# Saída: Y -> vetor contendo os coeficientes espectrais (números complexos) - (dtype=complex)\n",
    "#\n",
    "def DFT_2D(x):\n",
    "    \n",
    "    -> INSIRA SEU CÓDIGO AQUI !!\n",
    "    \n",
    "    return Y    "
   ]
  },
  {
   "cell_type": "code",
   "execution_count": null,
   "metadata": {},
   "outputs": [],
   "source": [
    "#\n",
    "# Função para calcular a IDFT (com loops for) de um sinal de valor complexo (dtype=complex)\n",
    "#\n",
    "# Entrada: Y -> vetor contendo os coeficientes espectrais (números complexos) \n",
    "# Saída: x -> vetor contendo as amostras (números complexos) do sinal no tempo \n",
    "#\n",
    "def IDFT_2D(Y):\n",
    "    \n",
    "    -> INSIRA SEU CÓDIGO AQUI !!    \n",
    "    \n",
    "    return x    "
   ]
  },
  {
   "cell_type": "markdown",
   "metadata": {},
   "source": [
    "## Parte B\n",
    "\n",
    "Escreva um código simples que leia a imagem fornecida para essa prática, calcule a sua DFT e plote o espectro de Fourier. \n",
    "\n",
    "**OBS**: Use a função do opencv para a leitura e visualização da imagem e do seu espetro.\n",
    "\n",
    "**DICA de USO - Leitura e Escrita de uma imagem**\n",
    "\n",
    "im_gray = cv2.imread('Nome_da_Imagem', cv2.IMREAD_GRAYSCALE)\n",
    "\n",
    "cv2.imwrite('Nome_da_Imagem', im_gray)"
   ]
  },
  {
   "cell_type": "code",
   "execution_count": null,
   "metadata": {},
   "outputs": [],
   "source": [
    "import cv2\n",
    "import matplotlib.pyplot as plt\n",
    "\n",
    "-> INSIRA SEU CÓDIGO AQUI !!"
   ]
  }
 ],
 "metadata": {
  "kernelspec": {
   "display_name": "Python 3 (ipykernel)",
   "language": "python",
   "name": "python3"
  },
  "language_info": {
   "codemirror_mode": {
    "name": "ipython",
    "version": 3
   },
   "file_extension": ".py",
   "mimetype": "text/x-python",
   "name": "python",
   "nbconvert_exporter": "python",
   "pygments_lexer": "ipython3",
   "version": "3.9.2"
  }
 },
 "nbformat": 4,
 "nbformat_minor": 2
}
