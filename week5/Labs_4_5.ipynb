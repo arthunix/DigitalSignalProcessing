{
 "cells": [
  {
   "cell_type": "markdown",
   "metadata": {},
   "source": [
    "# 4o e 5o Lab de PSD (notebook para preencher com os resultados)"
   ]
  },
  {
   "cell_type": "markdown",
   "metadata": {},
   "source": [
    "### Número do Grupo : `inserir o número do grupo aqui`"
   ]
  },
  {
   "cell_type": "code",
   "execution_count": null,
   "metadata": {},
   "outputs": [],
   "source": [
    "#\n",
    "# Primeiro vamos importar as bibliotecas necessárias\n",
    "#\n",
    "import numpy as np\n",
    "import matplotlib.pyplot as plt\n",
    "import cv2\n",
    "import math\n",
    "from scipy.signal import convolve, correlate"
   ]
  },
  {
   "cell_type": "markdown",
   "metadata": {},
   "source": [
    "## Definição do par de transformadas DFT - (direta e inversa)   \n",
    "\n",
    "O par de transformadas discretas de Fourier (Discrete Fourier Transform - DFT) para um sinal de tempo discreto $x[k]$ com índice das amostras igual $k$ e o correspondente espectro de Fourier $X[\\mu]$ com índice de frequências $\\mu$ é calculado como  \n",
    "\\begin{align}\n",
    "\\text{DFT}: Y[\\mu]=&\\sum_{k=0}^{N-1}x[k]\\cdot\\mathrm{e}^{-\\mathrm{j}\\frac{2\\pi}{N}k\\mu}\\\\\n",
    "\\text{IDFT}: x[k]=\\frac{1}{N}&\\sum_{\\mu=0}^{N-1}Y[\\mu]\\cdot\\mathrm{e}^{+\\mathrm{j}\\frac{2\\pi}{N}k\\mu}\n",
    "\\end{align}\n",
    "\n",
    "Observe o sinal negativo na função exponential da transformada direta (DFT) e o fator de normalização $1/N$ na transformada inversa (IDFT). Essa convensão é usada pela maioria dos livros textos de DSP e também pela biblioteca Python `numpy.fft.fft()`, `numpy.fft.ifft()` e funções do Matlab `fft()`, `ifft()`."
   ]
  },
  {
   "cell_type": "markdown",
   "metadata": {},
   "source": [
    "# PROBLEMA 1"
   ]
  },
  {
   "cell_type": "markdown",
   "metadata": {},
   "source": [
    "## DFT e IDFT com \"loops for\"\n",
    "\n",
    "Agora vamos implementar a DFT e a IDFT usando \"loops for\". Embora isso possa ser útil para entender e validar algoritmos em sua fase inicial de desenvolvimento, isso deve ser evitado para um código usado na prática: \"loops for\" normalmente são lentos e muitas vezes mais complicados de ler do que implementações usando matrizes e vetores. Especialmente para $N$ muito grandes, o tempo de computação é muito longo.\n",
    "\n",
    "De qualquer forma, o conceito de \"loop for\" é: a DFT pode ser implementada com um \"loop for\" externo iterando sobre $\\mu$ e um \"loop for\" interno somando todos os $k$ para um $\\mu$ específico.\n",
    "\n",
    "Usamos variável com subscrito _ aqui, a fim de salvar bons nomes de variáveis para o cálculo baseado em matriz."
   ]
  },
  {
   "cell_type": "markdown",
   "metadata": {},
   "source": [
    "## Parte A \n",
    "\n",
    "Escreva as funções DFT e IDFT que calculam, respectivamente, as transformadas discretas de Fourier direta e inversa. "
   ]
  },
  {
   "cell_type": "code",
   "execution_count": null,
   "metadata": {},
   "outputs": [],
   "source": [
    "#\n",
    "# Função para calcular a DFT (com loops for) de um sinal de valor complexo (dtype=complex)\n",
    "#\n",
    "# Entrada: x -> vetor contendo as amostras (números complexos) do sinal no tempo \n",
    "# Saída: Y -> vetor contendo os coeficientes espectrais (números complexos) - (dtype=complex)\n",
    "#\n",
    "def DFT_1D(x):\n",
    "    \n",
    "    N = len(x)\n",
    "    Y = np.zeros((N, 1), dtype=complex)  # alloc RAM, init with zeros\n",
    "    for mu_ in range(N):  # do for all DFT frequency indices\n",
    "        for k_ in range(N):  # do for all sample indices\n",
    "            Y[mu_] += x[k_] * np.exp(-1j*2*np.pi/N*k_*mu_)\n",
    "    \n",
    "    return Y    "
   ]
  },
  {
   "cell_type": "code",
   "execution_count": null,
   "metadata": {},
   "outputs": [],
   "source": [
    "#\n",
    "# Função para calcular a IDFT (com loops for) de um sinal de valor complexo (dtype=complex)\n",
    "#\n",
    "# Entrada: Y -> vetor contendo os coeficientes espectrais (números complexos) \n",
    "# Saída: x -> vetor contendo as amostras (números complexos) do sinal no tempo \n",
    "#\n",
    "def IDFT_1D(Y):\n",
    "    \n",
    "    N = len(Y)\n",
    "    x = np.zeros((N, 1), dtype=complex)  # alloc RAM, init with zeros\n",
    "    for k_ in range(N):\n",
    "        for mu_ in range(N):\n",
    "            x[k_] += Y[mu_] * np.exp(+1j*2*np.pi/N*k_*mu_)\n",
    "    x *= 1/N  # normalization in the IDFT stage\n",
    "    \n",
    "    return x    "
   ]
  },
  {
   "cell_type": "markdown",
   "metadata": {},
   "source": [
    "## Parte B \n",
    "\n",
    "Estude o código abaixo que cria uma sinal discreto composto pela soma de três ondas senoides com amplitude e frequências distintas. "
   ]
  },
  {
   "cell_type": "code",
   "execution_count": null,
   "metadata": {},
   "outputs": [],
   "source": [
    "# taxa de amostragem (sampling rate)\n",
    "sr = 100\n",
    "\n",
    "# intervalo de amostragem\n",
    "ts = 1.0/sr\n",
    "t = np.arange(0,1,ts)\n",
    "\n",
    "x = 2\n",
    "\n",
    "freq = 1.\n",
    "x += 3*np.sin(2*np.pi*freq*t)\n",
    "\n",
    "freq = 4\n",
    "x += 1*np.sin(2*np.pi*freq*t)\n",
    "\n",
    "freq = 7   \n",
    "x += 0.5*np.sin(2*np.pi*freq*t)\n",
    "\n",
    "plt.figure(figsize = (8, 6))\n",
    "plt.stem(t, x, linefmt='red')\n",
    "plt.ylabel('Amplitude')\n",
    "\n",
    "plt.show()"
   ]
  },
  {
   "cell_type": "markdown",
   "metadata": {},
   "source": [
    "## Parte C \n",
    "\n",
    "Escreva um código que utilize a função DFT criada anteriormente para calcular e plotar o espectro de frequências (abs(Y)) do sinal $x$ criado acima. \n",
    "\n",
    "**OBS**: Observe que a DFT codificada recebe como entrada um sinal complexo e o sinal acima é do tipo real. Portanto, transforme o sinal $x$ em uma sequência complexa com a parte imaginária igual a zero. "
   ]
  },
  {
   "cell_type": "code",
   "execution_count": null,
   "metadata": {},
   "outputs": [],
   "source": [
    "# tamanho do vetor\n",
    "N = len(x)\n",
    "\n",
    "#for i in range(N):\n",
    "#    x[i] = x[i] * (-1)**i\n",
    "\n",
    "# cria um vetor de números complexos\n",
    "x_ = x + 1j*0\n",
    "\n",
    "# chamada à função DFT\n",
    "Y = DFT_1D(x_)\n",
    "\n",
    "# calcula a frequência\n",
    "n = np.arange(N)\n",
    "T = N/sr\n",
    "freq = n/T \n",
    "\n",
    "plt.figure(figsize = (8, 6))\n",
    "plt.stem(freq, abs(Y), linefmt='blue', markerfmt=\" \", basefmt=\"-b\")\n",
    "plt.xlabel('Freq (Hz)')\n",
    "plt.ylabel('Amplitude da DFT |X(freq)|')\n",
    "plt.show()"
   ]
  },
  {
   "cell_type": "markdown",
   "metadata": {},
   "source": [
    "No gráfico acima é possível notar que a saída da DFT é simétrica na metade da taxa de amostragem (você pode tentar uma taxa de amostragem diferente para testar). \n",
    "\n",
    "Essa metade da taxa de amostragem é chamada de **frequência de Nyquist**, em homenagem ao engenheiro eletrônico **Harry Nyquist**. Harry Nyquist e Claude Shannon criaram o famoso teorema de amostragem de **Nyquist-Shannon**, que afirma que um sinal amostrado a uma taxa $f_s$ pode ser totalmente reconstruído se contiver apenas componentes de frequência abaixo da metade dessa frequência de amostragem, ou seja, a taxa de amostragem deve ser maior que duas vezes a máxima frequência do sinal, $f_s > f_{max}$."
   ]
  },
  {
   "cell_type": "code",
   "execution_count": null,
   "metadata": {},
   "outputs": [],
   "source": [
    "n_oneside = N//2\n",
    "\n",
    "# obtem as frequências de um lado\n",
    "f_oneside = freq[:n_oneside]\n",
    "\n",
    "# normaliza a amplitude do sinal\n",
    "Y_oneside =Y[:n_oneside]/n_oneside\n",
    "\n",
    "plt.figure(figsize = (12, 6))\n",
    "plt.subplot(121)\n",
    "plt.stem(f_oneside, abs(Y_oneside), linefmt='blue', markerfmt=\" \", basefmt=\"-b\")\n",
    "plt.xlabel('Freq (Hz)')\n",
    "plt.ylabel('Amplitude da DFT |X(freq)|')\n",
    "\n",
    "plt.subplot(122)\n",
    "plt.stem(f_oneside, abs(Y_oneside), linefmt='blue', markerfmt=\" \", basefmt=\"-b\")\n",
    "plt.xlabel('Freq (Hz)')\n",
    "# Limita o eixo x até frequência de 10 Hz\n",
    "plt.xlim(0, 10)\n",
    "\n",
    "plt.tight_layout()\n",
    "plt.show()"
   ]
  },
  {
   "cell_type": "markdown",
   "metadata": {},
   "source": [
    "## Limitações da DFT implementada\n",
    "\n",
    "O principal problema com a implementação da DFT acima é que ela não é eficiente se tivermos um sinal com muitas amostras. Nesse caso, o cálculo da DFT pode levar muito tempo."
   ]
  },
  {
   "cell_type": "markdown",
   "metadata": {},
   "source": [
    "## Parte D\n",
    "\n",
    "Escreva uma função em python que implemente o sinal indicado abaixo. \n",
    "\n",
    "\\begin{equation}\n",
    "f(t) = 3sin(2\\pi f t),\n",
    "\\end{equation}\n",
    "\n",
    "sendo $f=2$ Hz"
   ]
  },
  {
   "cell_type": "code",
   "execution_count": null,
   "metadata": {},
   "outputs": [],
   "source": [
    "# \n",
    "# sr = taxa de amostragem\n",
    "#\n",
    "def sinal(sr):\n",
    "    '''\n",
    "    função para gerar um sinal 1D simples com diferentes taxas de amostragem\n",
    "    '''\n",
    "    ts = 1.0/sr\n",
    "    t = np.arange(0,1,ts)\n",
    "\n",
    "    freq = 1.\n",
    "    x = 3*np.sin(2*np.pi*freq*t)\n",
    "\n",
    "    return x"
   ]
  },
  {
   "cell_type": "markdown",
   "metadata": {},
   "source": [
    "## Parte E\n",
    "\n",
    "Escreva um simples programa em python que varia a taxa de amostragem (sr) do sinal acima de 500 e 1000, com passo de 100 e, para cada uma das taxas, determine a DFT do sinal gerado e imprima o tempo de de execução.\n",
    "\n",
    "**OBS** Use o código abaixo como exemplo de como medir o tempo de execução\n",
    "\n",
    "import time\n",
    "start_time = time.time()\n",
    "main()\n",
    "print(\"--- %s seconds ---\" % (time.time() - start_time))"
   ]
  },
  {
   "cell_type": "code",
   "execution_count": null,
   "metadata": {},
   "outputs": [],
   "source": [
    "import time\n",
    "\n",
    "start = 500\n",
    "stop  = 1000\n",
    "step  = 100\n",
    "\n",
    "for i in range(start, stop+step, step):\n",
    "    x = sinal(i)\n",
    "    x_ = x + 1j*0\n",
    "\n",
    "    start_time = time.time()\n",
    "    Y = DFT_1D(x_)\n",
    "    print(\"--- %s seconds ---\" % (time.time() - start_time))"
   ]
  },
  {
   "cell_type": "markdown",
   "metadata": {},
   "source": [
    "## Parte F\n",
    "\n",
    "Agora, utilize a função IDFt para obter e plotar o sinal original $x$ criado na \"parte A\" a partir do seu espetro $Y$ obtido na \"parte C\"\n",
    "\n",
    "**OBS**: Observe que a IDFT codificada recebe como entrada um sinal complexo e retorna um sinal complexo. Portanto, para obter o sinal $x$ criado na \"parte A\", você precisa utilizar apenas a parte real do sinal de retorno. "
   ]
  },
  {
   "cell_type": "code",
   "execution_count": null,
   "metadata": {},
   "outputs": [],
   "source": [
    "#\n",
    "# Taxa de amostragem (sampling rate)\n",
    "#\n",
    "sr = 100\n",
    "ts = 1.0/sr\n",
    "t = np.arange(0,1,ts)\n",
    "\n",
    "#\n",
    "# Constroe o sinal complexo\n",
    "#\n",
    "x_o = sinal(sr)\n",
    "x_c = x_o + 1j*0\n",
    "\n",
    "#\n",
    "# transformada direta\n",
    "#\n",
    "Y = DFT_1D(x_c)\n",
    "\n",
    "#\n",
    "# transformada inversa\n",
    "#\n",
    "x_c = IDFT_1D(Y)\n",
    "\n",
    "#\n",
    "# extrai sinal original\n",
    "#\n",
    "x_r = np.real(x_c)\n",
    "\n",
    "#\n",
    "# Plota os sinais original e reconstruído\n",
    "#\n",
    "plt.figure(figsize=[8, 6.])\n",
    "plt.subplot(1, 2, 1)\n",
    "plt.title(\"Sinal original\")\n",
    "plt.stem(t, x_o, linefmt='blue')\n",
    "plt.ylabel('Amplitude')\n",
    "\n",
    "plt.subplot(1, 2, 2)\n",
    "plt.title(\"Sinal reconstruído\")\n",
    "plt.stem(t, x_r, linefmt='red')\n",
    "plt.ylabel('Amplitude')\n",
    "plt.tight_layout()"
   ]
  },
  {
   "cell_type": "markdown",
   "metadata": {},
   "source": [
    "# PROBLEMA 2"
   ]
  },
  {
   "cell_type": "markdown",
   "metadata": {},
   "source": [
    "## Parte A\n",
    "\n",
    "Estenda para sinais 2D (imagens) os códigos da DFT e IDFT implementados anteriormente para sinais 1D\n",
    "\n",
    "**DICA**: Use do fato que a 2D-DFT pode ser escrita a partir da 1D-DFT, como indicado abaixo\n",
    "\n",
    "\n",
    "\\begin{equation}\n",
    "F(u,v) = \\frac{1}{MN} \\sum_{x=0}^{N} \\sum_{y=0}^{M} f(x,y) e^{-j 2\\pi \\left( \\frac{ux}{N} + \\frac{vy}{M} \\right)} = \\frac{1}{M} \\sum_{y=0}^{M} \\left[ \\frac{1}{N} \\sum_{x=0}^{N} f(x,y)  e^{-j 2\\pi \\frac{ux}{N}} \\right] e^{-j 2\\pi \\frac{vy}{M}} \n",
    "\\end{equation}"
   ]
  },
  {
   "cell_type": "code",
   "execution_count": null,
   "metadata": {},
   "outputs": [],
   "source": [
    "#\n",
    "# Função para calcular a DFT (com loops for) de um sinal de valor complexo (dtype=complex)\n",
    "#\n",
    "# Entrada: x -> vetor contendo as amostras (números complexos) do sinal no tempo \n",
    "# Saída: Y -> vetor contendo os coeficientes espectrais (números complexos) - (dtype=complex)\n",
    "#\n",
    "def DFT_2D(x):\n",
    "\n",
    "    rows, cols = x.shape\n",
    "    Y = np.empty_like(x) \n",
    "    \n",
    "    for row in range(0,rows):\n",
    "        Y[row,:] = DFT_1D(x[row,:]).reshape((rows,))\n",
    "    Y = Y.transpose()\n",
    "    for col in range(0,cols):\n",
    "        Y[col,:] = DFT_1D(x[col,:]).reshape((cols,))\n",
    "    Y = Y.transpose()\n",
    "    \n",
    "    return Y    "
   ]
  },
  {
   "cell_type": "code",
   "execution_count": null,
   "metadata": {},
   "outputs": [],
   "source": [
    "import cv2\n",
    "import matplotlib.pyplot as plt\n",
    "\n",
    "fileName = \"cameraman.tiff\"\n",
    "\n",
    "im_gray = cv2.imread(fileName, cv2.IMREAD_GRAYSCALE)\n",
    "im_cplx = im_gray + 1j*0\n",
    "\n",
    "Y = DFT_2D(im_cplx)"
   ]
  },
  {
   "cell_type": "code",
   "execution_count": null,
   "metadata": {},
   "outputs": [],
   "source": [
    "#\n",
    "# Função para calcular a iDFT (com loops for) de um sinal de valor complexo (dtype=complex)\n",
    "#\n",
    "# Entrada: Y -> vetor contendo os coeficientes espectrais (números complexos) \n",
    "# Saída: x -> vetor contendo as amostras (números complexos) do sinal no tempo \n",
    "#\n",
    "def IDFT_2D(Y):\n",
    "    \n",
    "    -> INSIRA SEU CÓDIGO AQUI !!    \n",
    "    \n",
    "    return x    "
   ]
  },
  {
   "cell_type": "markdown",
   "metadata": {},
   "source": [
    "## Parte B\n",
    "\n",
    "Escreva um código simples que leia a imagem **cameraman.tiff**, calcule a sua DFT e plote o espectro de Fourier. \n",
    "\n",
    "**OBS**: Use a função do opencv para a leitura e visualização da imagem e do seu espetro.\n",
    "\n",
    "**DICA de USO - Leitura e Escrita de uma imagem**\n",
    "\n",
    "im_gray = cv2.imread('Nome_da_Imagem', cv2.IMREAD_GRAYSCALE)\n",
    "\n",
    "cv2.imwrite('Nome_da_Imagem', im_gray)"
   ]
  },
  {
   "cell_type": "code",
   "execution_count": null,
   "metadata": {},
   "outputs": [],
   "source": [
    "-> INSERIR O SEU CÓDIGO AQUI !"
   ]
  },
  {
   "cell_type": "markdown",
   "metadata": {},
   "source": [
    "# PROBLEMA 3"
   ]
  },
  {
   "cell_type": "markdown",
   "metadata": {},
   "source": [
    "## Parte A - Representação matricial da DFT - (transformada direta)"
   ]
  },
  {
   "cell_type": "markdown",
   "metadata": {},
   "source": [
    "Como vimos em sala de aula, a DFT pode ser escrita na forma matricial como indicado abaixo.\n",
    "\n",
    "\\begin{equation}\n",
    "    \\textrm{DFT : } \\quad F_{k} = \\sum_{n=0}^{N-1}x_n\\cdot e^{-\\frac{j2\\pi kn}{N}} =  \\sum_{n=0}^{N-1}x_n\\cdot (W_{N})^{kn}, \\quad k=0,1,\\ldots,N-1  \\nonumber\n",
    "\\end{equation}\n",
    "\n",
    "sendo $W_N = e^{-\\frac{j2\\pi}{N}}$ o núcleo da transformada.\t\n",
    "\n",
    "\\begin{equation}\n",
    "\t\t\\begin{bmatrix}\n",
    "\t\t\tF_{0} \\\\ F_{1} \\\\ F_{2} \\\\ \\vdots \\\\ F_{N-1}\n",
    "\t\t\\end{bmatrix}\n",
    "\t\t=\n",
    "\t\t\\begin{bmatrix}\n",
    "\t\t\t1      & 1           & 1              & \\dots  & 1               \\\\\n",
    "\t\t\t1      & W_{N}       & W_{N}^2        & \\dots  & W_{N}^{N-1}     \\\\\n",
    "\t\t\t1      & W_{N}^{2}   & W_{N}^4        & \\dots  & W_{N}^{2(N-1)}  \\\\\n",
    "\t\t\t\\vdots & \\vdots      & \\vdots         & \\ddots & \\vdots          \\\\\n",
    "\t\t\t1      & W_{N}^{N-1} & W_{N}^{2(N-1)} & \\dots  & W_{N}^{(N-1)^2} \n",
    "\t\t\\end{bmatrix}\n",
    "\t\t\\begin{bmatrix}\n",
    "\t\t\tx_0 \\\\ x_1  \\\\ x_2 \\\\ \\vdots \\\\ x_{N-1} \n",
    "\t\t\\end{bmatrix} \\nonumber\n",
    "\\end{equation}"
   ]
  },
  {
   "cell_type": "markdown",
   "metadata": {},
   "source": [
    "Escreva um código que implemente a matrix da DFT como indicada acima. \n",
    "\n",
    "**DICA**: Estude a função meshgrid do numpy. Crie um meshgrid de tamanho $N \\times N$ e utilize os seus índices para gerar a matrix $W$"
   ]
  },
  {
   "cell_type": "code",
   "execution_count": null,
   "metadata": {},
   "outputs": [],
   "source": [
    "#\n",
    "# Entrada: N -> tamanho da matrix DFT\n",
    "# Saída: W -> matrix DFT\n",
    "#\n",
    "def DFT_matrix(N):\n",
    "    \n",
    "    -> INSERIR SEU CÓDIGO AQUI !\n",
    "\n",
    "    return W"
   ]
  },
  {
   "cell_type": "markdown",
   "metadata": {},
   "source": [
    "Utilizando a matriz DFT gerada acima, encontre o espectro de Fourier do sinal gerado no PROBLEMA 1 - Parte B e compare o resultado com o resultado obtido no PROBLEMA 1 - Parte C."
   ]
  },
  {
   "cell_type": "code",
   "execution_count": null,
   "metadata": {},
   "outputs": [],
   "source": [
    "-> INSERIR SEU CÓDIGO AQUI !"
   ]
  },
  {
   "cell_type": "markdown",
   "metadata": {},
   "source": [
    "## Parte B - Representação matricial da iDFT - (transformada inversa)"
   ]
  },
  {
   "cell_type": "markdown",
   "metadata": {},
   "source": [
    "Como vimos em sala de aula, a iDFT pode ser escrita na forma matricial como indicado abaixo.\n",
    "\n",
    "\\begin{equation}\n",
    "    \\textrm{iDFT : } \\quad x_{n} = \\frac{1}{N}\\sum_{K=0}^{N-1}F_k\\cdot e^{\\frac{j2\\pi kn}{N}}, \\quad n=0,1,\\ldots,N-1  \\nonumber\n",
    "\\end{equation}\n",
    "\n",
    "\\begin{equation}\n",
    "    \\begin{bmatrix}\n",
    "        x_{0} \\\\ x_{1} \\\\ x_{2} \\\\ \\vdots \\\\ x_{N-1}\n",
    "    \\end{bmatrix}\n",
    "    = \\frac{1}{N}\n",
    "    \\begin{bmatrix}\n",
    "        1      & 1              & 1               & \\dots  & 1               \\\\\n",
    "        1      & W_{N}^{-1}     & W_{N}^{-2}      & \\dots  & W_{N}^{-(N-1)}     \\\\\n",
    "        1      & W_{N}^{-2}     & W_{N}^{-4}      & \\dots  & W_{N}^{-2(N-1)}  \\\\\n",
    "        \\vdots & \\vdots         & \\vdots          & \\ddots & \\vdots          \\\\\n",
    "        1      & W_{N}^{-(N-1)} & W_{N}^{-2(N-1)} & \\dots  & W_{N}^{-(N-1)^2} \n",
    "        \\end{bmatrix}\n",
    "        \\begin{bmatrix}\n",
    "        F_0 \\\\ F_1  \\\\ F_2 \\\\ \\vdots \\\\ F_{N-1} \n",
    "    \\end{bmatrix} \\nonumber\n",
    "\\end{equation}"
   ]
  },
  {
   "cell_type": "markdown",
   "metadata": {},
   "source": [
    "Escreva um código que implemente a matrix da iDFT como indicada acima e plot o sinal gerado. Verifique se o sinal é igual ao sinal original usado como entrada na parte A desse problema."
   ]
  },
  {
   "cell_type": "code",
   "execution_count": null,
   "metadata": {},
   "outputs": [],
   "source": [
    "#\n",
    "# Entrada: N -> tamanho da matrix DFT\n",
    "# Saída: W -> matrix DFT\n",
    "#\n",
    "def iDFT_matrix(N):\n",
    "    \n",
    "    -> INSERIR SEU CÓDIGO AQUI !\n",
    "\n",
    "    return W"
   ]
  },
  {
   "cell_type": "markdown",
   "metadata": {},
   "source": [
    "## Parte C - caso 2D\n",
    "\n",
    "Pense em como usar as matrizes DFTs 1D implementadas anteriormente para o caso de imagens (sinal 2D)"
   ]
  },
  {
   "cell_type": "code",
   "execution_count": null,
   "metadata": {},
   "outputs": [],
   "source": [
    "-> INSERIR SEU CÓDIGO AQUI !"
   ]
  },
  {
   "cell_type": "markdown",
   "metadata": {},
   "source": [
    "# PROBLEMA 4"
   ]
  },
  {
   "cell_type": "markdown",
   "metadata": {},
   "source": [
    "Como vimos na teoria, a convolução de dois sinais no domínio do tempo/espaço é realizada na frequência como a multiplicação das transformadas de Fourier dos respectivos sinais."
   ]
  },
  {
   "cell_type": "markdown",
   "metadata": {},
   "source": [
    "<img src=\"fft_steps.png\" width=\"80%\" height=\"100%\">"
   ]
  },
  {
   "cell_type": "markdown",
   "metadata": {},
   "source": [
    "## Parte A - implementação dos passos 1 a 3"
   ]
  },
  {
   "cell_type": "code",
   "execution_count": null,
   "metadata": {},
   "outputs": [],
   "source": [
    "# Leitura de imagem\n",
    "img = cv2.imread('predio.jpg', cv2.IMREAD_GRAYSCALE)\n",
    "plt.figure(figsize=[7,7])\n",
    "plt.imshow(img, cmap='gray')\n",
    "plt.show()"
   ]
  },
  {
   "cell_type": "code",
   "execution_count": null,
   "metadata": {},
   "outputs": [],
   "source": [
    "#\n",
    "# Step 1 - Padding da imagem\n",
    "#\n",
    "\n",
    "-> INSIRA O SEU CÓDIGO AQUI !\n",
    "\n",
    "\n",
    "#\n",
    "# Step 2 - Multiplicao da imagem após padding por (-1)^(x+y)\n",
    "# \n",
    "\n",
    "-> INSIRA O SEU CÓDIGO AQUI !\n",
    "\n",
    "\n",
    "#\n",
    "# Step 3 - Converter imagem do domínio do espaço para o domínio da frequência\n",
    "#\n",
    "# OBS: Nesse passo, utilize a função np.fft.fft2() do numpy\n",
    "#\n",
    "\n",
    "-> INSIRA O SEU CÓDIGO AQUI !\n"
   ]
  },
  {
   "cell_type": "markdown",
   "metadata": {},
   "source": [
    "**OBS1**: Lembre que a transformada de fourier gera um conjunto de números complexos\n",
    "\n",
    "$F(\\mu) = Real(\\mu) + j*Imaginária(\\mu)$\n",
    "\n",
    "e, portanto, podemos calcular\n",
    "\n",
    "\n",
    "$Magnitude = |F(\\mu)| = \\sqrt{(Real(\\mu)² + Imaginaria(\\mu)²)}$\n",
    "\n",
    "\n",
    "$Fase = \\phi(\\mu)) = atan⁻¹\\left( \\frac{Imaginaria(\\mu)}{Real(\\mu)} \\right)$\n",
    "\n",
    "\n",
    "**OBS2**: Lembre que, para melhor visualização do espectro de Fourier, é importante alterar a faixa dinâmica da magnitude dos coeficientes, como:\n",
    "\n",
    "$c*log(1+|F(\\mu)|)$\n",
    "\n",
    "sendo $c$ uma constante para escalonamento. Use $c=30$ para melhor visualização."
   ]
  },
  {
   "cell_type": "markdown",
   "metadata": {},
   "source": [
    "Crie um subplot (plt.subplot()) que mostre a magnitude (antes e depois o escalonamento indicado acima) e a fase do espectro.  "
   ]
  },
  {
   "cell_type": "code",
   "execution_count": null,
   "metadata": {},
   "outputs": [],
   "source": [
    "-> INSIRA O SEU CÓDIGO AQUI !"
   ]
  },
  {
   "cell_type": "markdown",
   "metadata": {},
   "source": [
    "Crie um subplot (plt.subplot()) que mostre a magnitude escalonada do espectro **com e sem** a execução do Step 2. Estude os resultados."
   ]
  },
  {
   "cell_type": "code",
   "execution_count": null,
   "metadata": {},
   "outputs": [],
   "source": [
    "-> INSIRA O SEU CÓDIGO AQUI !"
   ]
  },
  {
   "cell_type": "markdown",
   "metadata": {},
   "source": [
    "## Parte B - implementação do passo 4"
   ]
  },
  {
   "cell_type": "code",
   "execution_count": null,
   "metadata": {},
   "outputs": [],
   "source": [
    "#\n",
    "# Step 4 - geração de um filtro passa-baixa (de tamanho PxQ) no domínio da frequência \n",
    "# \n",
    "def ideal_low_pass_filter(img, radius):\n",
    "    '''Cria um filtro passa-baixa de mesma dimensão que img. \n",
    "       radius define o raio do filtro, isto é, a máxima frequência que será mantida na imagem'''\n",
    "    \n",
    "    num_rows, num_cols = img.shape\n",
    "    freq_r = np.fft.fftfreq(num_rows)\n",
    "    freq_c = np.fft.fftfreq(num_cols)\n",
    "    freq_r = np.fft.fftshift(freq_r)\n",
    "    freq_c = np.fft.fftshift(freq_c)  \n",
    "    \n",
    "    low_pass_filter = np.zeros([num_rows, num_cols])\n",
    "    for row in range(num_rows):\n",
    "        for col in range(num_cols):\n",
    "            distance = np.sqrt(freq_r[row]**2 + freq_c[col]**2)\n",
    "            if distance <= radius:\n",
    "                low_pass_filter[row, col] = 1\n",
    "                \n",
    "    return low_pass_filter"
   ]
  },
  {
   "cell_type": "code",
   "execution_count": null,
   "metadata": {},
   "outputs": [],
   "source": [
    "# \n",
    "# Crie e mostre (plt.imshow) um filtro usando o código acima com radius = 0.07\n",
    "#\n",
    "-> INSIRA O SEU CÓDIGO AQUI !"
   ]
  },
  {
   "cell_type": "markdown",
   "metadata": {},
   "source": [
    "## Parte C - implementação do passo 5\n",
    "\n",
    "Implemente abaixo a seguinte equação: $G(\\mu, v) = H(\\mu, v).F(\\mu, v) $"
   ]
  },
  {
   "cell_type": "code",
   "execution_count": null,
   "metadata": {},
   "outputs": [],
   "source": [
    "-> INSERIR SEU CÓDIGO AQUI !!"
   ]
  },
  {
   "cell_type": "markdown",
   "metadata": {},
   "source": [
    "## Parte D - implementação do passo 6\n",
    "\n",
    "Implemente um código que faça a conversão da imagem do domínio da frequência para o domínio do espaço.\n",
    "\n",
    "Plot o resultado obtido."
   ]
  },
  {
   "cell_type": "code",
   "execution_count": null,
   "metadata": {},
   "outputs": [],
   "source": [
    "-> INSERIR SEU CÓDIGO AQUI !!"
   ]
  },
  {
   "cell_type": "markdown",
   "metadata": {},
   "source": [
    "## Parte E - implementação do passo 7\n",
    "\n",
    "Implemente um código para extrair a região $M \\times N$ do quadrante superior esquerda da imagem resultante do passo 6."
   ]
  },
  {
   "cell_type": "code",
   "execution_count": null,
   "metadata": {},
   "outputs": [],
   "source": [
    "-> INSERIR SEU CÓDIGO AQUI !!"
   ]
  },
  {
   "cell_type": "markdown",
   "metadata": {},
   "source": [
    "## Parte F - implementação de um filtro passa baixa Gaussiano\n",
    "\n",
    "Modifique o código do passo 4 para criar um filro passa baixa Gaussiano. \n",
    "\n",
    "Usando esse novo filtro execute novamente os passos 5, 6 e 7. Analise os resultados obtidos usando os dois filtros."
   ]
  },
  {
   "cell_type": "code",
   "execution_count": null,
   "metadata": {},
   "outputs": [],
   "source": []
  },
  {
   "cell_type": "markdown",
   "metadata": {},
   "source": [
    "# That's All Folks"
   ]
  },
  {
   "cell_type": "code",
   "execution_count": null,
   "metadata": {},
   "outputs": [],
   "source": []
  }
 ],
 "metadata": {
  "kernelspec": {
   "display_name": "Python 3 (ipykernel)",
   "language": "python",
   "name": "python3"
  },
  "language_info": {
   "codemirror_mode": {
    "name": "ipython",
    "version": 3
   },
   "file_extension": ".py",
   "mimetype": "text/x-python",
   "name": "python",
   "nbconvert_exporter": "python",
   "pygments_lexer": "ipython3",
   "version": "3.9.2"
  }
 },
 "nbformat": 4,
 "nbformat_minor": 2
}
