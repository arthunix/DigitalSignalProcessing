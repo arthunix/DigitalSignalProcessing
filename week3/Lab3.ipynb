{
 "cells": [
  {
   "cell_type": "markdown",
   "metadata": {},
   "source": [
    "# 3o Lab de PSD (notebook para preencher com os resultados)"
   ]
  },
  {
   "cell_type": "markdown",
   "metadata": {},
   "source": [
    "### Número do Grupo : `inserir o número do grupo aqui`"
   ]
  },
  {
   "cell_type": "code",
   "execution_count": null,
   "metadata": {},
   "outputs": [],
   "source": [
    "#\n",
    "# Primeiro vamos importar as bibliotecas necessárias\n",
    "#\n",
    "import numpy as np\n",
    "import matplotlib.pyplot as plt\n",
    "from scipy.signal import convolve, correlate"
   ]
  },
  {
   "cell_type": "markdown",
   "metadata": {},
   "source": [
    "## 1. Derivada de sinais 1D\n",
    "\n",
    "### Estude os códigos abaixo\n",
    "\n",
    "Vamos primeiro definir uma função f(x)=x**2, chamada fx"
   ]
  },
  {
   "cell_type": "code",
   "execution_count": null,
   "metadata": {},
   "outputs": [],
   "source": [
    "#\n",
    "# Definição do eixo x\n",
    "# 50 amostras entre 0 e 40\n",
    "#\n",
    "x = np.linspace(0, 40, 50)\n",
    "\n",
    "#\n",
    "# Obtendo os valores da função f(x)\n",
    "#\n",
    "fx = x**2\n",
    "\n",
    "#\n",
    "# Desenha o gráfico e insere labels\n",
    "#\n",
    "plt.stem(x, fx)\n",
    "plt.xlabel('x', size=16)\n",
    "plt.ylabel('$f(x)=x^2$', size=16)"
   ]
  },
  {
   "cell_type": "markdown",
   "metadata": {},
   "source": [
    "#### Cálculo da derivada de fx:"
   ]
  },
  {
   "cell_type": "code",
   "execution_count": null,
   "metadata": {},
   "outputs": [],
   "source": [
    "#\n",
    "# A derivada de 1a ordem do sinal pode ser calculada por diferenças\n",
    "# como indicado no código comentado abaixo\n",
    "#\n",
    "dx = x[1]-x[0]\n",
    "dfx = np.zeros(len(fx)-1)\n",
    "for i in range(len(fx)-1):\n",
    "    dfx[i] = (fx[i+1] - fx[i])/dx\n",
    "   \n",
    "#\n",
    "# Desenha o gráfico e insere labels\n",
    "#\n",
    "plt.stem(x[:-1], dfx)\n",
    "plt.xlabel('x', size=16)\n",
    "plt.ylabel(r'$\\Delta f/\\Delta x\\approx 2x$', size=16)"
   ]
  },
  {
   "cell_type": "markdown",
   "metadata": {},
   "source": [
    "# PROBLEMA 1"
   ]
  },
  {
   "cell_type": "markdown",
   "metadata": {},
   "source": [
    "## Parte A \n",
    "\n",
    "Reescreva o código acima substituindo o cálculo da \"derivada por diferenças\" usado um \"filtro derivativo\" e a operação de convolução ou correlação cruzada"
   ]
  },
  {
   "cell_type": "code",
   "execution_count": null,
   "metadata": {},
   "outputs": [],
   "source": [
    "#\n",
    "# Definir o filtro derivativo de 1a ordem de 2 elementos\n",
    "#\n",
    "-> INSERIR SEU CÓDIGO AQUI!\n",
    "\n",
    "#\n",
    "# Usar o método \"numpy.correlate(a, v, mode='valid')\" ou \"numpy.convolve(a, v, mode='full')\"\n",
    "# para realizar a filtragem do sinal\n",
    "#\n",
    "-> INSERIR SEU CÓDIGO AQUI!"
   ]
  },
  {
   "cell_type": "markdown",
   "metadata": {},
   "source": [
    "## Parte B\n",
    "\n",
    "Usando o método numpy.correlate(a, v, mode='valid') determine a derivada de 1a ordem da função seno definida no intervalo de 0 a $4\\pi$"
   ]
  },
  {
   "cell_type": "code",
   "execution_count": null,
   "metadata": {},
   "outputs": [],
   "source": [
    "#\n",
    "# Defina o eixo x no intervalo indicado acima com um total de N=50 amostras\n",
    "#\n",
    "-> INSERIR SEU CÓDIGO AQUI!\n",
    "\n",
    "#\n",
    "# Defina a função seno -> use a função np.sin() \n",
    "#\n",
    "-> INSERIR SEU CÓDIGO AQUI!\n",
    "\n",
    "#\n",
    "# Derivada da função seno \n",
    "#\n",
    "-> INSERIR SEU CÓDIGO AQUI!\n",
    "\n",
    "#\n",
    "# Plotar usando \"subplot\" as funções seno e sua derivada\n",
    "#\n",
    "-> INSERIR SEU CÓDIGO AQUI!"
   ]
  },
  {
   "cell_type": "markdown",
   "metadata": {},
   "source": [
    "## Parte C\n",
    "\n",
    "Repita o experimento acima mas agora adicionando ruído à função f(x). Para isso, utilize o seguinte trecho de código após a determinação dos valores de f(x)."
   ]
  },
  {
   "cell_type": "code",
   "execution_count": null,
   "metadata": {},
   "outputs": [],
   "source": [
    "mu = 0.0                               # média zero\n",
    "sigma = 0.3                            # desvio padrão 0.3\n",
    "N = 50                                 # número de amostras igual a 50\n",
    "noise = np.random.normal(mu, sigma, N) # ruído a ser inserido ao sinal\n",
    "fx_noise = fx + noise"
   ]
  },
  {
   "cell_type": "code",
   "execution_count": null,
   "metadata": {},
   "outputs": [],
   "source": [
    "-> INSERIR SEU CÓDIGO AQUI!"
   ]
  },
  {
   "cell_type": "markdown",
   "metadata": {},
   "source": [
    "## Parte D\n",
    "\n",
    "Construa usando o filtro gaussiano 1D dado abaixo, realize a convolução do filtro com o sinal fx_noise (fx + noise). A seguir plote usando \"subplot\" os sinais antes e depois da convolução.\n",
    "\n",
    "OBS: O valor do parâmetro \"S\" do filtro representa o tamanho do filtro - use um valor ímpar: S=25, por exemplo. "
   ]
  },
  {
   "cell_type": "code",
   "execution_count": null,
   "metadata": {},
   "outputs": [],
   "source": [
    "#\n",
    "# Filtro Gaussiano 1D\n",
    "#\n",
    "#\n",
    "def filtro_gaussiano_1d(S):\n",
    "    sigma = S/(2*3)\n",
    "    x = np.linspace(-3*sigma, 3*sigma, S)\n",
    "    y = np.exp(-x**2/(2*sigma**2))\n",
    "    y = y/np.sum(y)\n",
    "    \n",
    "    return y"
   ]
  },
  {
   "cell_type": "code",
   "execution_count": null,
   "metadata": {},
   "outputs": [],
   "source": [
    "-> INSERIR SEU CÓDIGO AQUI!"
   ]
  },
  {
   "cell_type": "markdown",
   "metadata": {},
   "source": [
    "## 2. Derivada de imagens\n",
    "\n",
    "### Estude o código abaixo"
   ]
  },
  {
   "cell_type": "markdown",
   "metadata": {},
   "source": [
    "### A. Calculando diretamente as diferenças entre pixels adjacentes"
   ]
  },
  {
   "cell_type": "code",
   "execution_count": null,
   "metadata": {},
   "outputs": [],
   "source": [
    "img = plt.imread('cameraman.tiff')\n",
    "img = img.astype(int)               # Converte imagem de uint (unsigned int) para int (signed int), pois\n",
    "                                    # a derivada pode ser negativa\n",
    "num_rows, num_cols = img.shape\n",
    "\n",
    "# Derivada na direção x, a imagem resultante possui uma coluna a menos que a original\n",
    "img_dx = np.zeros((num_rows, num_cols-1))    \n",
    "for row in range(num_rows):\n",
    "    for col in range(num_cols-1):\n",
    "        img_dx[row, col] = img[row,col+1] - img[row,col]\n",
    "# O loop aninhado acima poderia ser substituído por\n",
    "# img_dx = img[:,1:] - img[:,:-1]\n",
    "# ou por\n",
    "# img_dx = np.diff(img, axis=1)\n",
    "\n",
    "# Derivada na direção y, a imagem resultante possui uma linha a menos que a original\n",
    "img_dy = np.zeros((num_rows-1, num_cols))\n",
    "for col in range(num_cols):\n",
    "    for row in range(num_rows-1):\n",
    "        img_dy[row, col] = img[row+1,col] - img[row,col]\n",
    "# O loop aninhado acima poderia ser substituído por\n",
    "# img_dy = img[1:] - img[:-1]\n",
    "# ou por\n",
    "# img_dy = np.diff(img, axis=0)\n",
    "        \n",
    "plt.figure(figsize=[15, 5])\n",
    "plt.subplot(1, 3, 1)\n",
    "plt.imshow(img, 'gray')\n",
    "plt.title('Original')\n",
    "plt.subplot(1, 3, 2)\n",
    "plt.imshow(img_dx, 'gray')\n",
    "plt.title('Derivada em x')\n",
    "plt.subplot(1, 3, 3)\n",
    "plt.imshow(img_dy, 'gray')\n",
    "plt.title('Derivada em y')"
   ]
  },
  {
   "cell_type": "markdown",
   "metadata": {},
   "source": [
    "Note que a derivada possui tantos valores negativos quantos positivos. Portanto, na visualização acima o valor mais negativo da imagem é mapeado para a cor preta, e o valor mais positivo para a cor branca. Com isso, pixels possuindo derivada zero (regiões uniformes da imagem, como o céu) são mapeados para uma cor intermediária, o cinza. "
   ]
  },
  {
   "cell_type": "markdown",
   "metadata": {},
   "source": [
    "#### Histograma das imagens:"
   ]
  },
  {
   "cell_type": "code",
   "execution_count": null,
   "metadata": {},
   "outputs": [],
   "source": [
    "plt.figure(figsize=[15, 5])\n",
    "plt.subplot(1, 3, 1)\n",
    "plt.hist(img.flatten(), 50)\n",
    "plt.title('Original')\n",
    "plt.subplot(1, 3, 2)\n",
    "plt.hist(img_dx.flatten(), 50)\n",
    "plt.title('Derivada em x')\n",
    "plt.subplot(1, 3, 3)\n",
    "plt.hist(img_dy.flatten(), 50)\n",
    "plt.title('Derivada em y')"
   ]
  },
  {
   "cell_type": "markdown",
   "metadata": {},
   "source": [
    "#### Magnitude do gradiente"
   ]
  },
  {
   "cell_type": "code",
   "execution_count": null,
   "metadata": {},
   "outputs": [],
   "source": [
    "img_grad_mag = np.zeros((num_rows-1, num_cols-1))\n",
    "for col in range(num_cols-1):\n",
    "    for row in range(num_rows-1):\n",
    "        img_grad_mag[row, col] = np.sqrt(img_dx[row,col]**2+img_dy[row, col]**2)\n",
    "# Utilizando o numpy, o loop aninhado acima pode ser substituído por\n",
    "#img_grad_mag = np.sqrt(img_dx[:-1]**2+img_dy[:, :-1]**2)\n",
    "# Os índices :-1 acima são necessários porque os arrays possuem tamanhos diferentes\n",
    "\n",
    "plt.figure(figsize=[6,6])\n",
    "plt.imshow(img_grad_mag, 'gray')\n",
    "plt.title('Magnitude do gradiente')"
   ]
  },
  {
   "cell_type": "markdown",
   "metadata": {},
   "source": [
    "# PROBLEMA 2"
   ]
  },
  {
   "cell_type": "markdown",
   "metadata": {},
   "source": [
    "## Parte A \n",
    "\n",
    "Reescrever o código acima substituindo o cálculo da derivada por diferenças usado um filtro derivativo simples e a operação de convolução"
   ]
  },
  {
   "cell_type": "markdown",
   "metadata": {},
   "source": [
    "### Derivada utilizando convolução e o filtro derivada simples"
   ]
  },
  {
   "cell_type": "code",
   "execution_count": null,
   "metadata": {},
   "outputs": [],
   "source": [
    "from scipy.signal import convolve\n",
    "\n",
    "#\n",
    "# Filtros derivada\n",
    "#\n",
    "wx = np.array([[1,  -1]])\n",
    "wy = np.array([[1],[-1]])\n",
    "\n",
    "-> INSERIR SEU CÓDIGO AQUI!\n",
    "\n",
    "plt.figure(figsize=[15, 5])\n",
    "plt.subplot(1, 3, 1)\n",
    "plt.imshow(img, 'gray')\n",
    "plt.title('Original')\n",
    "plt.subplot(1, 3, 2)\n",
    "plt.imshow(img_dx_conv, 'gray')\n",
    "plt.title('Derivada em x')\n",
    "plt.subplot(1, 3, 3)\n",
    "plt.imshow(img_dy_conv, 'gray')\n",
    "plt.title('Derivada em y')"
   ]
  },
  {
   "cell_type": "markdown",
   "metadata": {},
   "source": [
    "## Parte B"
   ]
  },
  {
   "cell_type": "markdown",
   "metadata": {
    "collapsed": true
   },
   "source": [
    "### Derivada utilizando convolução com o filtro de Sobel"
   ]
  },
  {
   "cell_type": "code",
   "execution_count": null,
   "metadata": {},
   "outputs": [],
   "source": [
    "# Filtros derivada\n",
    "sx = np.array([[1, 0, -1],\n",
    "               [2, 0, -2],\n",
    "               [1, 0, -1]])\n",
    "sy = wx.transpose()\n",
    "\n",
    "-> INSERIR SEU CÓDIGO AQUI!\n",
    "\n",
    "plt.figure(figsize=[15, 5])\n",
    "plt.subplot(1, 3, 1)\n",
    "plt.imshow(img, 'gray')\n",
    "plt.title('Original')\n",
    "plt.subplot(1, 3, 2)\n",
    "plt.imshow(img_dx_conv_sobel, 'gray')\n",
    "plt.title('Derivada em x')\n",
    "plt.subplot(1, 3, 3)\n",
    "plt.imshow(img_dy_conv_sobel, 'gray')\n",
    "plt.title('Derivada em y')"
   ]
  },
  {
   "cell_type": "markdown",
   "metadata": {},
   "source": [
    "### Estudar o código abaixo \n",
    "#### Comparação da magnitude do gradiente entre derivada simples e filtro Sobel"
   ]
  },
  {
   "cell_type": "code",
   "execution_count": null,
   "metadata": {},
   "outputs": [],
   "source": [
    "img_grad_mag = np.sqrt(img_dx_conv**2+img_dy_conv**2)\n",
    "img_grad_mag_sobel = np.sqrt(img_dx_conv_sobel**2+img_dy_conv_sobel**2)\n",
    "plt.figure(figsize=[15, 7])\n",
    "plt.subplot(1, 2, 1)\n",
    "plt.imshow(img_grad_mag, 'gray')\n",
    "plt.title('Derivada simples')\n",
    "plt.subplot(1, 2, 2)\n",
    "plt.imshow(img_grad_mag_sobel, 'gray')\n",
    "plt.title('Derivada Sobel')\n"
   ]
  },
  {
   "cell_type": "markdown",
   "metadata": {},
   "source": [
    "### Estudar o código abaixo \n",
    "#### Visualização do gradiente em uma dada região da imagem"
   ]
  },
  {
   "cell_type": "code",
   "execution_count": null,
   "metadata": {},
   "outputs": [],
   "source": [
    "def view_gradient(img, img_dx, img_dy, region):\n",
    "    \n",
    "    Y, X = np.mgrid[region[0]:region[1], region[2]:region[3]]\n",
    "    Y = Y[::-1]\n",
    "    img_region = img[region[0]:region[1], region[2]:region[3]]\n",
    "    img_dx_region = img_dx[region[0]:region[1], region[2]:region[3]]\n",
    "    img_dy_region = img_dy[region[0]:region[1], region[2]:region[3]]\n",
    "    \n",
    "    plt.figure(figsize=[12, 6])\n",
    "    plt.subplot(1, 2, 1, aspect='equal')\n",
    "    plt.pcolormesh(X, Y, img_region, cmap='gray')\n",
    "    plt.subplot(1, 2, 2, aspect='equal')\n",
    "    plt.quiver(X, Y, img_dx_region, -img_dy_region, edgecolor='k', facecolor='k', \n",
    "               linewidth=.5, scale=3e3)\n",
    "\n",
    "region = [55,70,100,120]    # [first row, last row, first column, last column]\n",
    "view_gradient(img, img_dx_conv, img_dy_conv, region)"
   ]
  }
 ],
 "metadata": {
  "kernelspec": {
   "display_name": "Python 3 (ipykernel)",
   "language": "python",
   "name": "python3"
  },
  "language_info": {
   "codemirror_mode": {
    "name": "ipython",
    "version": 3
   },
   "file_extension": ".py",
   "mimetype": "text/x-python",
   "name": "python",
   "nbconvert_exporter": "python",
   "pygments_lexer": "ipython3",
   "version": "3.9.2"
  }
 },
 "nbformat": 4,
 "nbformat_minor": 2
}
